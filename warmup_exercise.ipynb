{
  "metadata": {
    "language_info": {
      "codemirror_mode": {
        "name": "python",
        "version": 3
      },
      "file_extension": ".py",
      "mimetype": "text/x-python",
      "name": "python",
      "nbconvert_exporter": "python",
      "pygments_lexer": "ipython3",
      "version": "3.8"
    },
    "kernelspec": {
      "name": "python",
      "display_name": "Python (Pyodide)",
      "language": "python"
    }
  },
  "nbformat_minor": 4,
  "nbformat": 4,
  "cells": [
    {
      "cell_type": "code",
      "source": "# 1. Write an algorithm to reverse a character array. Method signature: public char [] reverse(char [] input).\n# Note:\n# 1.It is not allowed to use any inbuilt language function\n# 2. it is not allowed to use any temporary array\n# 3. Basically it should be an in place reversal \n\n\ndef reverse_char_arr(arr):\n    n = len(arr)\n    \n    for i in range(len(arr)//2):\n        arr[i] , arr[n-i-1] = arr[n-i-1] , arr[i]\n\n#test\narr = ['a','b','c','d','e']\nreverse_char_arr(arr)\nprint(arr)\n\n                                \n        \n                    ",
      "metadata": {
        "trusted": true
      },
      "execution_count": 9,
      "outputs": [
        {
          "name": "stdout",
          "text": "['e', 'd', 'c', 'b', 'a']\n",
          "output_type": "stream"
        }
      ]
    },
    {
      "cell_type": "code",
      "source": "# 2. Find number of occurrences of each number from the array\n# Every number is in the range [0….100].\n# Public void numberOfOccurences (int [] input){\n# //write logic here\n# }\n# Note: expecting O(n) solution which means no sorting or nested loops allowed\n\n\n\ndef number_of_occurences(_input):\n    mp = {}\n\n    for n in _input:\n        if n in mp: \n            mp[n] += 1\n        else: \n            mp[n] = 1\n\n    return mp\n\n#test\narr = [1,1,2,2,3,1,2,100]\n\nnumber_of_occurences(arr)\n\n",
      "metadata": {
        "trusted": true
      },
      "execution_count": 14,
      "outputs": [
        {
          "execution_count": 14,
          "output_type": "execute_result",
          "data": {
            "text/plain": "{1: 3, 2: 3, 3: 1, 100: 1}"
          },
          "metadata": {}
        }
      ]
    },
    {
      "cell_type": "code",
      "source": "# 3. Find first maximum and second maximum number from an integer array\n# Note : expecting O(n) solution which means no sorting or nested loops allowed\n\n\ndef first_second_max(arr):\n    first = second = arr[0]\n    if(len(arr)>=2):\n        for n in arr:\n            if n > first:\n                second = first\n                first = n\n            elif n > second and n < first:\n                second = n\n    else:\n        return [arr[0],None]\n                \n\n    return [first,second]\n\n#test \narr = [5,4,100,2,1]\n\nfirst_second_max(arr)\n",
      "metadata": {
        "trusted": true
      },
      "execution_count": 16,
      "outputs": [
        {
          "execution_count": 16,
          "output_type": "execute_result",
          "data": {
            "text/plain": "[100, 5]"
          },
          "metadata": {}
        }
      ]
    },
    {
      "cell_type": "code",
      "source": "# 4. roundOff a float number having only one decimal place (3.2 = 3; 4.8 =5 etc)\n# Note: It is not allowed to use any inbuilt language function.\n\n\ndef round_off(number):\n    decimal_part = number - int(number)\n    if decimal_part >= 0.5:\n        return int(number) + 1\n    else:\n        return int(number)\n\n#test\nnumber  = 12.5 \n\nround_off(12.4)\n\n    ",
      "metadata": {
        "trusted": true
      },
      "execution_count": 21,
      "outputs": [
        {
          "execution_count": 21,
          "output_type": "execute_result",
          "data": {
            "text/plain": "12"
          },
          "metadata": {}
        }
      ]
    },
    {
      "cell_type": "code",
      "source": "# 5. Surprisingly there are only three numbers that can be written as the sum of fourth\n# powers of their digits:\n# 1634 = 14 + 64 + 34 + 44\n#  8208 = 84 + 24 + 04 + 84\n# 9474 = 94 + 44 + 74 + 44\n# As 1 = 14\n# is not a sum it is not included.\n# The sum of these numbers is 1634 + 8208 + 9474 = 19316.\n# Find the sum of all the numbers that can be written as the sum of fifth powers of their\n# digits.\n\ndef digitize(number):\n    arr = []\n    while(int(number)>0):\n        arr.append(number%10)\n        \n        number = int(number/10) \n    return arr\n\n\n#print(digitize(12345))\n\nfor i in range(10000,100000):\n    arr = digitize(i)\n    total = 0 \n    \n    for num in arr:\n        total += num ** 5\n        \n    \n    if (total == i) :\n        print(i)\n        \n        \n    ",
      "metadata": {
        "trusted": true
      },
      "execution_count": null,
      "outputs": []
    },
    {
      "cell_type": "code",
      "source": "# 6. Write a function that takes in an integer array and returns the item that occurs most\n# often.\n# int Most_frequent(inputArray [])\n# If n is an input element in the array the possible values for n 1 ≤ n ≤ 100\n# Note: Solution should be in O(n)\n\ndef most_frequent(arr):\n    freq_map = number_of_occurences(arr)\n    \n    ans = arr[0]\n    freq = freq_map[arr[0]]\n    \n    for i , j in freq_map.items():\n        if(j>freq) :\n            ans = i \n            freq = j\n    return ans\n\narr = [1,1,1,1,2,2,2,2,2,2,2,3,3,3,3]\nmost_frequent(arr)",
      "metadata": {
        "trusted": true
      },
      "execution_count": 25,
      "outputs": [
        {
          "execution_count": 25,
          "output_type": "execute_result",
          "data": {
            "text/plain": "2"
          },
          "metadata": {}
        }
      ]
    },
    {
      "cell_type": "code",
      "source": "# 7. Given two sorted arrays in ascending order , write a function which takes both as input\n# and returns an array of common elements .\n#  A = [1,3,4,6,7,9]\n#  B=[1,2,4,5,9,10]\n#  OutputArray:[1,,4,9]\n# Note: Solution should be in O(n)\n\n\ndef common_elements(arr1 , arr2):\n    i, j = 0, 0\n    ans =[]\n    while i < len(arr1) and j < len(arr2):\n        if arr1[i] < arr2[j]:\n            i += 1\n        elif arr2[j] < arr1[i]:\n            j+= 1\n        else:\n            ans.append(arr1[i])\n            j += 1\n            i += 1\n    return ans\n            \narr1 = [1,2,3,4,5,6]\narr2 = [2,4,6,8]\n\ncommon_elements(arr1 , arr2)\n\n",
      "metadata": {
        "trusted": true
      },
      "execution_count": 31,
      "outputs": [
        {
          "execution_count": 31,
          "output_type": "execute_result",
          "data": {
            "text/plain": "[2, 4, 6]"
          },
          "metadata": {}
        }
      ]
    },
    {
      "cell_type": "code",
      "source": "",
      "metadata": {},
      "execution_count": null,
      "outputs": []
    }
  ]
}